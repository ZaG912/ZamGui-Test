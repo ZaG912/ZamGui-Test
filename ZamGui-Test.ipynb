{
 "cells": [
  {
   "cell_type": "markdown",
   "id": "f5e82f99-7779-4b7c-a25b-8252a4c6ea82",
   "metadata": {},
   "source": [
    "<h1> My Jupyter Notebook on IBM Watson Studio"
   ]
  },
  {
   "cell_type": "code",
   "execution_count": 27,
   "id": "5b31bb4b-9b19-4e1d-b4c5-1349a04c0f65",
   "metadata": {},
   "outputs": [
    {
     "name": "stdout",
     "output_type": "stream",
     "text": [
      "\u001b[1mGuido Zamparo\u001b[0m\n"
     ]
    }
   ],
   "source": [
    "print ('\\033[1m' + 'Guido Zamparo' + '\\033[0m')"
   ]
  },
  {
   "cell_type": "markdown",
   "id": "a22739ba-a31b-47a6-bace-5f033ec73a72",
   "metadata": {},
   "source": [
    "*I am interested in data science because i like finance administration and i would need to find the way to ompimize process if i want to find a job in that industry.*"
   ]
  },
  {
   "cell_type": "markdown",
   "id": "4bef679f-c5d9-4e5d-9a63-414d50098a20",
   "metadata": {},
   "source": [
    "<H3> In the following code i test Fibonacci"
   ]
  },
  {
   "cell_type": "code",
   "execution_count": 35,
   "id": "ddc62c81-e046-4760-b841-41293a35f966",
   "metadata": {},
   "outputs": [
    {
     "name": "stdout",
     "output_type": "stream",
     "text": [
      "0\n",
      "1\n",
      "1\n",
      "2\n",
      "3\n",
      "5\n",
      "8\n",
      "13\n",
      "21\n",
      "34\n"
     ]
    }
   ],
   "source": [
    "n1 = 0\n",
    "n2 = 1\n",
    "n3 = 0\n",
    "for i in range(10):\n",
    "   n3 = n1 + n3\n",
    "   print(n3)\n",
    "   n1 = n2\n",
    "   n2 = n3"
   ]
  },
  {
   "cell_type": "markdown",
   "id": "0ebdd877-3634-4db0-bcdb-6ac22435d159",
   "metadata": {},
   "source": [
    "| Week of course | Practice time | End time  |\n",
    "| -------------- |:-------------:| ---------:|\n",
    "| First  Week    | 7  hours      |   23pm    |\n",
    "| Second Week    | 6  hours      |   22pm    |\n",
    "| Third  Week    | 10 hours      |   20pm    |\n",
    "| Fourth Week    | 12 hours      |   11am    |\n",
    "\n",
    "> Blockquotes are very handy in email to emulate reply text.\n",
    "> This line is part of the same quote.\n",
    "\n",
    "Quote break.\n",
    "\n",
    "> This is a very long line that will still be quoted properly when it wraps. Oh boy let's keep writing to make sure this is long enough to actually wrap for everyone. Oh, you can *put* **Markdown** into a blockquote. \n",
    "\n",
    "[![Música Clásica para Estimular el Cerebro - Mozart] (https://www.youtube.com/watch?v=7JmprpRIsEY)"
   ]
  },
  {
   "cell_type": "code",
   "execution_count": null,
   "id": "66f330f5-8df1-4f3a-8b75-e2fe572bd1fe",
   "metadata": {},
   "outputs": [],
   "source": []
  }
 ],
 "metadata": {
  "kernelspec": {
   "display_name": "Python",
   "language": "python",
   "name": "conda-env-python-py"
  },
  "language_info": {
   "codemirror_mode": {
    "name": "ipython",
    "version": 3
   },
   "file_extension": ".py",
   "mimetype": "text/x-python",
   "name": "python",
   "nbconvert_exporter": "python",
   "pygments_lexer": "ipython3",
   "version": "3.7.12"
  }
 },
 "nbformat": 4,
 "nbformat_minor": 5
}
